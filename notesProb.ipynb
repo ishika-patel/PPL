{
 "cells": [
  {
   "cell_type": "code",
   "execution_count": 5,
   "metadata": {},
   "outputs": [
    {
     "ename": "SyntaxError",
     "evalue": "invalid syntax (<ipython-input-5-bb6de1e9692b>, line 3)",
     "output_type": "error",
     "traceback": [
      "\u001b[0;36m  File \u001b[0;32m\"<ipython-input-5-bb6de1e9692b>\"\u001b[0;36m, line \u001b[0;32m3\u001b[0m\n\u001b[0;31m    python -m pip install openpyxl\u001b[0m\n\u001b[0m              ^\u001b[0m\n\u001b[0;31mSyntaxError\u001b[0m\u001b[0;31m:\u001b[0m invalid syntax\n"
     ]
    }
   ],
   "source": [
    "import os, shutil\n",
    "import pandas as pd\n",
    "python -m pip install openpyxl\n",
    "\n",
    "info_dir = '/Users/ipatel/Desktop/2021_MCM_Problem_C_Data'\n",
    "info_file = os.path.join(info_dir, '2021MCMProblemC_DataSet.xlsx')\n",
    "\n",
    "info_wb = pd.ExcelFile(info_file, engine='openpyxl')\n",
    "info_sheet = pd.read_excel(info_wb, sheet_name=None)\n",
    "\n",
    "prob_dict = dict()\n",
    "\n",
    "new_wb = Workbook()\n",
    "ws = new_wb.active\n",
    "\n",
    "ws['A1'] = 'Global ID'\n",
    "ws['B1'] = 'Score'\n",
    "ws['C1'] = 'Probability (Positive)'\n",
    "\n",
    "for i in range(len(info_sheet['Sheet1']['GlobalID'])):\n",
    "    notes = info_sheet['Sheet1']['Notes'][i]\n",
    "    notes = notes.lower()\n",
    "    date = info_sheet['Sheet1']['Detection Date'][i]\n",
    "    month = date.split('/')[0]\n",
    "    sum = 0\n",
    "    global_id = info_sheet['Sheet1']['GlobalID'][i]\n",
    "    if 'orange' in notes:\n",
    "        sum = sum + 1\n",
    "    if 'brown' in notes:\n",
    "        sum = sum + 1\n",
    "    if 'yellow head' in notes or 'yellowish head' in notes:\n",
    "        sum = sum + 1\n",
    "    if 'decapitate' in notes:\n",
    "        sum = sum + 1\n",
    "    if 'dirt' in notes:\n",
    "        sum = sum + 1\n",
    "    if 'forest' in notes or 'wood' in notes:\n",
    "        sum = sum + 1\n",
    "    if '2 inch' in notes or '2 \\'\\'' in notes or 'two inch' in notes:\n",
    "        sum = sum + 1\n",
    "    if 'big' in notes or 'giant' in notes:\n",
    "        sum = sum + 1\n",
    "    if 'red' in notes:\n",
    "        sum = sum - 1\n",
    "    if 'black head' in notes:\n",
    "        sum = sum - 1\n",
    "    if 'orange legs' in notes:\n",
    "        sum = sum - 1\n",
    "    if ('dead' in notes and (month >= 10 or month <= 2)) or ('specimen' in notes and (month >= 10 or month <= 2)):\n",
    "        sum = sum + 1\n",
    "    if ('live' in notes and (month >= 10 or month <= 2)) or ('killed' in notes and (month >= 10 or month <= 2)):\n",
    "        sum = sum - 1\n",
    "    if ('live' in notes and (month >= 2 and month <= 10)) or ('killed' in notes and (month >= 2 and month <= 10)):\n",
    "        sum = sum + 1\n",
    "    if ('nest' in notes and (month == 3 or month == 4)) or ('hive' in notes and (month == 3 or month == 4)):\n",
    "        sum = sum + 1\n",
    "    elif ('nest' in notes) or ('hive' in notes):\n",
    "        sum = sum - 1\n",
    "    if (sum < 0):\n",
    "        sum = 0\n",
    "    prob = sum / 11\n",
    "    prob_dict[global_id] = prob\n",
    "    row = str(i+2)\n",
    "    ws['A'+row] = global_id\n",
    "    ws['B'+row] = sum\n",
    "    ws['C'+row] = prob\n",
    "\n",
    "\n",
    "new_wb.save('notes_analysis.xlsx')"
   ]
  },
  {
   "cell_type": "code",
   "execution_count": null,
   "metadata": {},
   "outputs": [],
   "source": []
  }
 ],
 "metadata": {
  "kernelspec": {
   "display_name": "Python 3",
   "language": "python",
   "name": "python3"
  },
  "language_info": {
   "codemirror_mode": {
    "name": "ipython",
    "version": 3
   },
   "file_extension": ".py",
   "mimetype": "text/x-python",
   "name": "python",
   "nbconvert_exporter": "python",
   "pygments_lexer": "ipython3",
   "version": "3.8.6"
  }
 },
 "nbformat": 4,
 "nbformat_minor": 4
}
