{
 "cells": [
  {
   "cell_type": "code",
   "execution_count": 0,
   "metadata": {
    "deletable": false,
    "nbgrader": {
     "checksum": "26c5a416fbe3346a4f31c11e8ce242d8",
     "grade": false,
     "grade_id": "cell-8a6c26fde7f1ca2a",
     "locked": true,
     "schema_version": 1,
     "solution": false
    }
   },
   "outputs": [
    {
     "name": "stderr",
     "output_type": "stream",
     "text": [
      "Cannot resolve $file import: /home/jovyan/work/hw4stdlib.sc"
     ]
    },
    {
     "ename": "",
     "evalue": "",
     "output_type": "error",
     "traceback": [
      "Cannot resolve $file import: /home/jovyan/work/hw4stdlib.sc"
     ]
    }
   ],
   "source": [
    "import $file.hw4stdlib\n",
    "import hw4stdlib._"
   ]
  },
  {
   "cell_type": "markdown",
   "metadata": {
    "deletable": false,
    "nbgrader": {
     "checksum": "d15236e9214361bd059d1900b1f97535",
     "grade": false,
     "grade_id": "cell-31b079288d90dc51",
     "locked": false,
     "schema_version": 1,
     "solution": false
    }
   },
   "source": [
    "# Homework 4\n",
    "\n",
    "In this assignment we will develop some helpful structures for building the interpreter.Then we will write the first full interpreter for Lettuce. Remember that lettuce is a functional language with let bindings. It is very similiar to a language called ML. Here we want to implement the interpreter for the language from the ground up. We will use most of the existing standard library we have developed while we write this, especially the equality functions and Dictionary data type from earlier in the homework.\n"
   ]
  },
  {
   "cell_type": "markdown",
   "metadata": {
    "deletable": false,
    "editable": false,
    "nbgrader": {
     "checksum": "6041d2f56fe50ff1c25aa0749d72f5c3",
     "grade": false,
     "grade_id": "cell-405b57b28eb4f0f0",
     "locked": true,
     "schema_version": 1,
     "solution": false
    }
   },
   "source": [
    "## Dictionaries\n",
    "\n",
    "We will need to define the datatype $\\texttt{Dictionary}$ before we write the first interpreter for lettuce. We'll begin by giving the definition below:\n",
    "\n",
    "$$\n",
    "\\begin{aligned}\n",
    "\\textbf{Dictionary}\\ A\\ B\\ ::&= \\text{EmptyDict} \\\\\n",
    "&\\mid\\ \\text{Entry}\\ A\\ B\\ (\\textbf{Dictionary}\\ A\\ B)\n",
    "\\end{aligned}\n",
    "$$\n",
    "\n",
    "This will create dictionaries of key-value pairs which will be very useful for implementing contexts in the next homework assignment. The definition of this type in Scala is given below:"
   ]
  },
  {
   "cell_type": "code",
   "execution_count": null,
   "metadata": {
    "deletable": false,
    "nbgrader": {
     "checksum": "3105b197651d01ef74d17e1090120662",
     "grade": false,
     "grade_id": "cell-c777fe8e435f2d12",
     "locked": false,
     "schema_version": 1,
     "solution": true
    }
   },
   "outputs": [],
   "source": [
    "// YOUR CODE HERE\n",
    "???"
   ]
  },
  {
   "cell_type": "markdown",
   "metadata": {
    "deletable": false,
    "editable": false,
    "nbgrader": {
     "checksum": "6cfc22cb6202cc8638cddeee5bac3de6",
     "grade": false,
     "grade_id": "cell-ad23f96fb3d4306c",
     "locked": true,
     "schema_version": 1,
     "solution": false
    }
   },
   "source": [
    "For both of the following functions you will need to provide a parameter for an equality-checking function. This is so we can check if keys are equal to eachother"
   ]
  },
  {
   "cell_type": "markdown",
   "metadata": {
    "deletable": false,
    "editable": false,
    "nbgrader": {
     "checksum": "18d825a305a619991239eee3993e3f56",
     "grade": false,
     "grade_id": "cell-66dfe694215bd90c",
     "locked": true,
     "schema_version": 1,
     "solution": false
    }
   },
   "source": [
    "### Membership(In) (5pts)\n",
    "\n",
    "Write a function called `isIn` which returns `True` if the Dictionary contains a given key and `False` if it does not."
   ]
  },
  {
   "cell_type": "code",
   "execution_count": null,
   "metadata": {
    "deletable": false,
    "nbgrader": {
     "checksum": "f7ca041dbeb6b3db1d8861fd44725757",
     "grade": false,
     "grade_id": "cell-23433950c52a6f5e",
     "locked": false,
     "schema_version": 1,
     "solution": true
    }
   },
   "outputs": [],
   "source": [
    "// YOUR CODE HERE\n",
    "???"
   ]
  },
  {
   "cell_type": "code",
   "execution_count": null,
   "metadata": {
    "deletable": false,
    "editable": false,
    "nbgrader": {
     "checksum": "57f28f8df8b6b64825de2570416fabf3",
     "grade": true,
     "grade_id": "cell-4972a9f7ef5db900",
     "locked": true,
     "points": 5,
     "schema_version": 1,
     "solution": false
    }
   },
   "outputs": [],
   "source": [
    "assert(isIn(nat_eq, Entry(five, True, EmptyDict), five) == True)\n",
    "assert(isIn(nat_eq, Entry(eight, True, Entry(five, True, EmptyDict)), five) == True)\n",
    "assert(isIn(nat_eq, Entry(five, True, EmptyDict), six) == False)\n",
    "assert(isIn(nat_eq, EmptyDict, seven) == False)\n",
    "passed(5)"
   ]
  },
  {
   "cell_type": "markdown",
   "metadata": {
    "deletable": false,
    "editable": false,
    "nbgrader": {
     "checksum": "300a1376511bdfd6ec471956d47c9358",
     "grade": false,
     "grade_id": "cell-9d21f17378934765",
     "locked": true,
     "schema_version": 1,
     "solution": false
    }
   },
   "source": [
    "### Lookup (5 pts)\n",
    "\n",
    "Write a function that retrieves a value that corresponds to a key in a dictionary. If the key is not in the map then return Nothing.\n",
    "\n",
    "$$\n",
    "\\texttt{lookup} : (a \\rightarrow a \\rightarrow \\mathbb{B}) \\rightarrow \\texttt{Dict}\\ a\\ b \\rightarrow a \\rightarrow \\texttt{Maybe}\\ b\n",
    "$$"
   ]
  },
  {
   "cell_type": "code",
   "execution_count": null,
   "metadata": {
    "deletable": false,
    "nbgrader": {
     "checksum": "a0c3e7ac22e3cf46f534d356a4a8c646",
     "grade": false,
     "grade_id": "cell-2753a17919e5caa9",
     "locked": false,
     "schema_version": 1,
     "solution": true
    }
   },
   "outputs": [],
   "source": [
    "// YOUR CODE HERE\n",
    "???"
   ]
  },
  {
   "cell_type": "code",
   "execution_count": null,
   "metadata": {
    "deletable": false,
    "editable": false,
    "nbgrader": {
     "checksum": "f1319b0615cbfe3437fc395b32dad172",
     "grade": true,
     "grade_id": "cell-efcc8fd55430e3cc",
     "locked": true,
     "points": 5,
     "schema_version": 1,
     "solution": false
    }
   },
   "outputs": [],
   "source": [
    "assert(lookup(nat_eq, Entry(five, \"ham\", EmptyDict), five) == Just(\"ham\"))\n",
    "assert(lookup(nat_eq, Entry(eight, seven, Entry(five, three, EmptyDict)), five) == Just(three))\n",
    "assert(lookup(nat_eq, Entry(five, True, EmptyDict), six) == None)\n",
    "assert(lookup(nat_eq, EmptyDict, seven) == None)\n",
    "passed(5)"
   ]
  },
  {
   "cell_type": "markdown",
   "metadata": {
    "deletable": false,
    "editable": false,
    "nbgrader": {
     "checksum": "b96e2f974d9347a4583b6bfcebe49d7b",
     "grade": false,
     "grade_id": "cell-0bf168c166e56981",
     "locked": true,
     "schema_version": 1,
     "solution": false
    }
   },
   "source": [
    "### Practice using these functions (5 pts)\n",
    "#### Part A\n",
    "Create the following dictionary as a scala value using this definition:\n",
    "```\n",
    "{\n",
    "    five: True,\n",
    "    six: False,\n",
    "    seven: False\n",
    "}\n",
    "```\n",
    "Place it in a variable named \"`ans_3a`\""
   ]
  },
  {
   "cell_type": "code",
   "execution_count": null,
   "metadata": {
    "deletable": false,
    "nbgrader": {
     "checksum": "d829775e5535404808bc49ec03e6dcbd",
     "grade": false,
     "grade_id": "cell-d081675d6d53a9cc",
     "locked": false,
     "schema_version": 1,
     "solution": true
    }
   },
   "outputs": [],
   "source": [
    "// Solution should look like `val ans3 = ???`\n",
    "// YOUR CODE HERE\n",
    "???"
   ]
  },
  {
   "cell_type": "code",
   "execution_count": null,
   "metadata": {
    "deletable": false,
    "editable": false,
    "nbgrader": {
     "checksum": "c6e502910cbf76810b56a7eda3dd546c",
     "grade": true,
     "grade_id": "cell-14d49877afa79bb3",
     "locked": true,
     "points": 2,
     "schema_version": 1,
     "solution": false
    }
   },
   "outputs": [],
   "source": [
    "assert(lookup(nat_eq, ans_3a, five) == Just(True))\n",
    "assert(lookup(nat_eq, ans_3a, six) == Just(False))\n",
    "assert(lookup(nat_eq, ans_3a, seven) == Just(False))\n",
    "passed(2)"
   ]
  },
  {
   "cell_type": "markdown",
   "metadata": {
    "deletable": false,
    "editable": false,
    "nbgrader": {
     "checksum": "413a87cde010ce6fa1adc83e4530d89e",
     "grade": false,
     "grade_id": "cell-e2c494340abb6706",
     "locked": true,
     "schema_version": 1,
     "solution": false
    }
   },
   "source": [
    "#### Part B\n",
    "For the following, use the super secret `secret_dict` variable defined below. Use the functions you just defined to complete the following:\n",
    "\n",
    "1. Look up the value mapped by key `Positive(one)` and place it in variable `ans_3b1` \n",
    "2. Look up the value mapped by key `Positive(three)` and place it in variable `ans_3b2`\n",
    "3. Check whether the key `Negative(three)` is in the map and place True or False in variable `ans_3b3`\n",
    "4. Check whether the key `Negative(one)` is in the map and place True or False in variable `ans_3b4`\n",
    "\n",
    "\n",
    "**Note**: For 1 and 2 remember to extract it from the maybe type, set the variable to the string `\"does not exist\"` if you get `None` instead of `Just(x)`."
   ]
  },
  {
   "cell_type": "code",
   "execution_count": null,
   "metadata": {
    "deletable": false,
    "editable": false,
    "nbgrader": {
     "checksum": "28d7ea94ce35a682bdc252620797949a",
     "grade": false,
     "grade_id": "cell-367a2b37f5710beb",
     "locked": true,
     "schema_version": 1,
     "solution": false
    }
   },
   "outputs": [],
   "source": [
    "val secret_dict = Entry(Positive(three), \"abc\",\n",
    "                        Entry(Negative(one), \"xyz\",\n",
    "                              Entry(Positive(one), \"MIB\", EmptyDict)))"
   ]
  },
  {
   "cell_type": "code",
   "execution_count": null,
   "metadata": {
    "deletable": false,
    "nbgrader": {
     "checksum": "dab83953838b2c29c3666c8ed44f4399",
     "grade": false,
     "grade_id": "cell-41d83bd054b1372a",
     "locked": false,
     "schema_version": 1,
     "solution": true
    }
   },
   "outputs": [],
   "source": [
    "// YOUR CODE HERE\n",
    "???"
   ]
  },
  {
   "cell_type": "code",
   "execution_count": null,
   "metadata": {
    "deletable": false,
    "editable": false,
    "nbgrader": {
     "checksum": "fbbcb5a04433ff1ef3f714e664962557",
     "grade": true,
     "grade_id": "cell-0ffa542d701f8f36",
     "locked": true,
     "points": 3,
     "schema_version": 1,
     "solution": false
    }
   },
   "outputs": [],
   "source": [
    "// Hidden tests (3 pts)"
   ]
  },
  {
   "cell_type": "markdown",
   "metadata": {},
   "source": [
    "# The Lettuce Interpreter"
   ]
  },
  {
   "cell_type": "markdown",
   "metadata": {},
   "source": [
    "\n",
    "\n",
    "## Problem 1 - The Values (5 points)\n",
    "\n",
    "Recall that we define interpreters as functions that take in expressions in the form of abstract syntax and give a value as output. In symbols:\n",
    "\n",
    "$$\n",
    "eval : Expr \\rightarrow Value\n",
    "$$\n",
    "\n",
    "It follows that we will need to create a datatype to represent the values that may be computed by lettuce. Bellow is the grammar that defines lettuce values. Implemenet this as a `sealead trait` in Scala below:\n",
    "\n",
    "$$\n",
    "\\begin{align}\n",
    "\\textbf{Value} ::=&\\ NumVal\\ \\mathbb{Z}\\\\\n",
    "\\mid&\\ BinVal\\ \\mathbb{B}\\\\\n",
    "\\mid&\\ Error\n",
    "\\end{align}\n",
    "$$"
   ]
  },
  {
   "cell_type": "code",
   "execution_count": 3,
   "metadata": {},
   "outputs": [
    {
     "data": {
      "text/plain": [
       "defined \u001b[32mtrait\u001b[39m \u001b[36mValue\u001b[39m\n",
       "defined \u001b[32mclass\u001b[39m \u001b[36mNumVal\u001b[39m\n",
       "defined \u001b[32mclass\u001b[39m \u001b[36mBinValue\u001b[39m\n",
       "defined \u001b[32mclass\u001b[39m \u001b[36mError\u001b[39m"
      ]
     },
     "execution_count": 3,
     "metadata": {},
     "output_type": "execute_result"
    }
   ],
   "source": [
    "sealed trait Value\n",
    "case class NumVal(f: Int) extends Value\n",
    "case class BinValue(b: String) extends Value\n",
    "case class Error() extends Value"
   ]
  },
  {
   "cell_type": "markdown",
   "metadata": {},
   "source": [
    "If your definition was correct then the values in the cell below should compile."
   ]
  },
  {
   "cell_type": "code",
   "execution_count": 3,
   "metadata": {},
   "outputs": [
    {
     "name": "stderr",
     "output_type": "stream",
     "text": [
      "cmd3.sc:1: not found: value Positive\n",
      "val v1 = NumVal(Positive(Succ(Succ(Zero))))\n",
      "                ^cmd3.sc:1: not found: value Succ\n",
      "val v1 = NumVal(Positive(Succ(Succ(Zero))))\n",
      "                         ^cmd3.sc:1: not found: value Succ\n",
      "val v1 = NumVal(Positive(Succ(Succ(Zero))))\n",
      "                              ^cmd3.sc:1: not found: value Zero\n",
      "val v1 = NumVal(Positive(Succ(Succ(Zero))))\n",
      "                                   ^cmd3.sc:2: not found: value BinVal\n",
      "val v2 = BinVal(False)\n",
      "         ^cmd3.sc:2: not found: value False\n",
      "val v2 = BinVal(False)\n",
      "                ^cmd3.sc:4: not found: value passed\n",
      "val res3_3 = passed(5)\n",
      "             ^Compilation Failed"
     ]
    },
    {
     "ename": "",
     "evalue": "",
     "output_type": "error",
     "traceback": [
      "Compilation Failed"
     ]
    }
   ],
   "source": [
    "val v1 = NumVal(Positive(Succ(Succ(Zero))))\n",
    "val v2 = BinVal(False)\n",
    "val v3 = Error\n",
    "passed(5)"
   ]
  },
  {
   "cell_type": "markdown",
   "metadata": {},
   "source": [
    "## Problem 2 - The Expressions (10 points)\n",
    "\n",
    "There are many possible expressions in the Lettuce language. We also use an abstract syntax to represent this. Here is the grammar to remind you of all the syntactic elements in Lettuce:\n",
    "\n",
    "$$\\begin{array}{rcll}\n",
    "\\mathbf{Expr} & ::= & Const(\\mathbb{Z}) \\\\\n",
    " & | & Bin(\\mathbb{B}) \\\\\n",
    " & | & Ident(\\mathbf{String}) \\\\\n",
    " & | & Plus(\\mathbf{Expr}, \\mathbf{Expr}) \\\\\n",
    " & | & Minus(\\mathbf{Expr}, \\mathbf{Expr}) \\\\\n",
    " & | & Mult (\\mathbf{Expr}, \\mathbf{Expr}) \\\\\n",
    " & | & Pow (\\mathbf{Expr}, \\mathbf{Expr}) \\\\\n",
    " & | & Neg (\\mathbf{Expr}) \\\\\n",
    " & | & Eq (\\mathbf{Expr}, \\mathbf{Expr}) \\\\\n",
    " & | & And ( \\mathbf{Expr}, \\mathbf{Expr} ) \\\\\n",
    " & | & Or ( \\mathbf{Expr}, \\mathbf{Expr} ) \\\\\n",
    " & | & IfThenElse(\\mathbf{Expr}, \\mathbf{Expr}, \\mathbf{Expr}) \\\\\n",
    " & | & Let( \\mathbf{String}, \\mathbf{Expr}, \\mathbf{Expr}) \\\\\n",
    "\\end{array}$$\n",
    "\n",
    "Now define a `sealed trait` for expressions in Lettuce:"
   ]
  },
  {
   "cell_type": "code",
   "execution_count": null,
   "metadata": {},
   "outputs": [],
   "source": [
    "// YOUR CODE HERE\n",
    "???"
   ]
  },
  {
   "cell_type": "markdown",
   "metadata": {},
   "source": [
    "If you defined `Expr` properly then the following expressions should compile:"
   ]
  },
  {
   "cell_type": "code",
   "execution_count": null,
   "metadata": {},
   "outputs": [],
   "source": [
    "val ex1 = Const(Positive(five))\n",
    "val ex2 = Const(Negative(three))\n",
    "val ex3 = Bin(True)\n",
    "val ex4 = Ident(\"x\")\n",
    "passed(5)"
   ]
  },
  {
   "cell_type": "code",
   "execution_count": null,
   "metadata": {},
   "outputs": [],
   "source": [
    "val ex5 = Plus(ex1, ex2)\n",
    "val ex6 = Let(\"x\", ex5, Mult(ex4, ex4))\n",
    "passed(5)"
   ]
  },
  {
   "cell_type": "markdown",
   "metadata": {},
   "source": [
    "## Problem 3 - The Interpreter (30 pts)\n",
    "\n",
    "We now need to define the interpreter for this language. It is a function of the form:\n",
    "\n",
    "$$\n",
    "eval : Expr \\rightarrow Value\n",
    "$$\n",
    "\n",
    "Except now that we have an execution environment($\\sigma$) we need some way to include sigma in this function. This will be as an additional argument:\n",
    "\n",
    "$$\n",
    "eval : \\sigma \\rightarrow Expr \\rightarrow Value\n",
    "$$\n",
    "\n",
    "We will let $\\sigma$ be a `Dictionary` as we defined in last week's homework. To add something to a dicitonary use the `Entry` constructor to add on a new element. This should be very similiar to the way `Cons` works on lists.\n",
    "\n",
    "Below we have given you the skeleton of the function `eval`. Fill in each case for the interpreter so that it can interpret all possible Lettuce expressions. The inference rules we covered in the classroom should be very helpful with this.\n",
    "\n",
    "Hint: It may be helpful to define some helper functions for the inference rules that have similar forms. These are the rules like binary operations for arithmetic, bool, etc. Just like we lumped some of these rules together into a single rule, we can do the same for our interpreter in the form of auxillary functions. The bonus `eval_bin` function from Homework 4 may be a good place for inspiration.\n",
    "\n",
    "Hint: Be ready to write some nested case matches. Most of your cases should have two nestings. One for the Sytnax element and another for evaluating the expressions it may contain. This is not true for all expressions but most will "
   ]
  },
  {
   "cell_type": "code",
   "execution_count": null,
   "metadata": {},
   "outputs": [],
   "source": [
    "// YOUR CODE HERE\n",
    "???"
   ]
  },
  {
   "cell_type": "markdown",
   "metadata": {},
   "source": [
    "If this was defined correctly then the definitions above should evaluate:"
   ]
  },
  {
   "cell_type": "code",
   "execution_count": null,
   "metadata": {},
   "outputs": [],
   "source": [
    "val ex1 = Const(Positive(five))\n",
    "val ex2 = Const(Negative(three))\n",
    "val ex3 = Bin(True)\n",
    "val ex4 = Ident(\"x\")\n",
    "val ex5 = Plus(ex1, ex2)\n",
    "val ex6 = Let(\"x\", ex5, Mult(ex4, ex4))"
   ]
  },
  {
   "cell_type": "code",
   "execution_count": null,
   "metadata": {},
   "outputs": [],
   "source": [
    "assert(eval(EmptyDict, ex3) == BinVal(True))\n",
    "passed(10)"
   ]
  },
  {
   "cell_type": "code",
   "execution_count": null,
   "metadata": {},
   "outputs": [],
   "source": [
    "assert(eval(EmptyDict, ex4) == Error)\n",
    "passed(10)"
   ]
  },
  {
   "cell_type": "code",
   "execution_count": null,
   "metadata": {},
   "outputs": [],
   "source": [
    "assert(eval(EmptyDict, ex5) == NumVal(Positive(two)))\n",
    "assert(eval(EmptyDict, ex6) == NumVal(Positive(four)))\n",
    "passed(10)"
   ]
  }
 ],
 "metadata": {
  "kernelspec": {
   "display_name": "Scala 2.12",
   "language": "scala",
   "name": "scala212"
  },
  "language_info": {
   "codemirror_mode": "text/x-scala",
   "file_extension": ".sc",
   "mimetype": "text/x-scala",
   "name": "scala",
   "nbconvert_exporter": "script",
   "version": "2.12.12"
  }
 },
 "nbformat": 4,
 "nbformat_minor": 2
}
